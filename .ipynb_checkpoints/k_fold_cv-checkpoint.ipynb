{
 "cells": [
  {
   "cell_type": "markdown",
   "metadata": {},
   "source": [
    "Coding simple k-fold cross validation with python"
   ]
  },
  {
   "cell_type": "code",
   "execution_count": 112,
   "metadata": {},
   "outputs": [
    {
     "data": {
      "text/plain": [
       "[[1, 2, 0],\n",
       " [2, 2, 0],\n",
       " [3, 4, 0],\n",
       " [4, 5, 0],\n",
       " [5, 5, 0],\n",
       " [6, 5, 1],\n",
       " [7, 7, 1],\n",
       " [8, 8, 1],\n",
       " [9, 9, 1],\n",
       " [10, 11, 1]]"
      ]
     },
     "execution_count": 112,
     "metadata": {},
     "output_type": "execute_result"
    }
   ],
   "source": [
    "### create dataset, with 0,1 label\n",
    "dataset=[[1,2,0],[2,2,0],[3,4,0],[4,5,0],[5,5,0],[6,5,1],[7,7,1],[8,8,1],[9,9,1],[10,11,1]]\n",
    "dataset"
   ]
  },
  {
   "cell_type": "code",
   "execution_count": 113,
   "metadata": {},
   "outputs": [],
   "source": [
    "import pandas as pd\n",
    "import numpy as np\n",
    "dataf=pd.DataFrame(dataset)\n",
    "dataf\n",
    "ytrain=dataf.iloc[:,-1]  ## label\n",
    "xtrain=dataf.iloc[:,:(-1)] ## training data"
   ]
  },
  {
   "cell_type": "code",
   "execution_count": 114,
   "metadata": {},
   "outputs": [],
   "source": [
    "from random import randrange\n",
    "from random import seed"
   ]
  },
  {
   "cell_type": "code",
   "execution_count": 115,
   "metadata": {},
   "outputs": [
    {
     "data": {
      "text/plain": [
       "[[[3, 4, 0], [2, 2, 0], [7, 7, 1], [1, 2, 0], [8, 8, 1]],\n",
       " [[9, 9, 1], [10, 11, 1], [6, 5, 1], [5, 5, 0], [4, 5, 0]]]"
      ]
     },
     "execution_count": 115,
     "metadata": {},
     "output_type": "execute_result"
    }
   ],
   "source": [
    "def k_fold_split(dataset,k):\n",
    "    ## function to split dataset into k folds\n",
    "    split=list()\n",
    "    fold_size=int(len(dataset)/k)\n",
    "    datasetcp=list(dataset) ### [warning here]! can't use datasetcp=dataset, in that way, dataset will by popped out!!\n",
    "    for i in range(k):\n",
    "        fold=list()\n",
    "        while len(fold)<fold_size:\n",
    "            index=randrange(len(datasetcp))\n",
    "            fold.append(datasetcp.pop(index))\n",
    "        split.append(fold)\n",
    "    return split\n",
    "\n",
    "seed(1)\n",
    "k_fold_split(dataset,2)"
   ]
  },
  {
   "cell_type": "code",
   "execution_count": 116,
   "metadata": {},
   "outputs": [],
   "source": [
    "from sklearn.linear_model import LogisticRegression"
   ]
  },
  {
   "cell_type": "code",
   "execution_count": 117,
   "metadata": {},
   "outputs": [
    {
     "data": {
      "text/plain": [
       "[[[2, 2, 0], [9, 9, 1], [1, 2, 0], [10, 11, 1], [6, 5, 1]],\n",
       " [[7, 7, 1], [3, 4, 0], [8, 8, 1], [5, 5, 0], [4, 5, 0]]]"
      ]
     },
     "execution_count": 117,
     "metadata": {},
     "output_type": "execute_result"
    }
   ],
   "source": [
    "k=2\n",
    "split=k_fold_split(dataset,k)\n",
    "split"
   ]
  },
  {
   "cell_type": "code",
   "execution_count": 118,
   "metadata": {},
   "outputs": [
    {
     "name": "stdout",
     "output_type": "stream",
     "text": [
      "[0.0, 0.6]\n"
     ]
    },
    {
     "name": "stderr",
     "output_type": "stream",
     "text": [
      "/Users/ziyangma/opt/anaconda3/lib/python3.7/site-packages/sklearn/linear_model/logistic.py:432: FutureWarning: Default solver will be changed to 'lbfgs' in 0.22. Specify a solver to silence this warning.\n",
      "  FutureWarning)\n",
      "/Users/ziyangma/opt/anaconda3/lib/python3.7/site-packages/sklearn/linear_model/logistic.py:432: FutureWarning: Default solver will be changed to 'lbfgs' in 0.22. Specify a solver to silence this warning.\n",
      "  FutureWarning)\n"
     ]
    }
   ],
   "source": [
    "## calculate test error for each fold\n",
    "test_err=[]\n",
    "for i in range(k):\n",
    "    splitcp=list(split)\n",
    "    test=pd.DataFrame(splitcp.pop(i))\n",
    "    flatten=lambda l: [item for sublist in splitcp for item in sublist] ## flatten the nested lists\n",
    "    train=pd.DataFrame(flatten(splitcp))\n",
    "    xtrain=train.iloc[:,:(-1)]\n",
    "    ytrain=train.iloc[:,-1]\n",
    "    xtest=test.iloc[:,:(-1)]\n",
    "    ytest=test.iloc[:,-1]\n",
    "    ## use logistic regression as an example\n",
    "    lr=LogisticRegression()\n",
    "    lr.fit(xtrain,ytrain)\n",
    "    y_pred=lr.predict(xtest)\n",
    "    testerr=1-np.mean(y_pred==ytest)\n",
    "    test_err.append(testerr)\n",
    "    \n",
    "print(test_err)"
   ]
  },
  {
   "cell_type": "code",
   "execution_count": 119,
   "metadata": {},
   "outputs": [
    {
     "data": {
      "text/plain": [
       "0.3"
      ]
     },
     "execution_count": 119,
     "metadata": {},
     "output_type": "execute_result"
    }
   ],
   "source": [
    "np.mean(test_err) ## corss_validation error"
   ]
  }
 ],
 "metadata": {
  "kernelspec": {
   "display_name": "Python 3",
   "language": "python",
   "name": "python3"
  },
  "language_info": {
   "codemirror_mode": {
    "name": "ipython",
    "version": 3
   },
   "file_extension": ".py",
   "mimetype": "text/x-python",
   "name": "python",
   "nbconvert_exporter": "python",
   "pygments_lexer": "ipython3",
   "version": "3.7.4"
  }
 },
 "nbformat": 4,
 "nbformat_minor": 2
}
